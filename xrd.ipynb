{
 "cells": [
  {
   "cell_type": "markdown",
   "id": "5dddbeff",
   "metadata": {},
   "source": [
    "### Import des packages et données utiles"
   ]
  },
  {
   "cell_type": "code",
   "execution_count": 1,
   "id": "30f47073",
   "metadata": {},
   "outputs": [],
   "source": [
    "import numpy as np\n",
    "from mp_api.client import MPRester\n",
    "from pymatgen.symmetry.analyzer import SpacegroupAnalyzer\n",
    "from pymatgen.analysis.diffraction.xrd import XRDCalculator\n",
    "from pymatgen.io.cif import CifWriter\n",
    "from pymatgen.ext.matproj import MPRester\n",
    "import matplotlib.pyplot as plt"
   ]
  },
  {
   "cell_type": "code",
   "execution_count": 2,
   "id": "59cd9ed9",
   "metadata": {},
   "outputs": [],
   "source": [
    "mp_key = \"7T8Rm9ppE58YHsBs2IkJCMwMXshrwbpx\"\n",
    "mp_id = \"mp-1018096\""
   ]
  },
  {
   "cell_type": "code",
   "execution_count": 3,
   "id": "d8fd3410",
   "metadata": {
    "scrolled": true
   },
   "outputs": [
    {
     "data": {
      "application/vnd.jupyter.widget-view+json": {
       "model_id": "98f20522c4b947beb9d2b4598873c46f",
       "version_major": 2,
       "version_minor": 0
      },
      "text/plain": [
       "Retrieving MaterialsDoc documents:   0%|          | 0/1 [00:00<?, ?it/s]"
      ]
     },
     "metadata": {},
     "output_type": "display_data"
    }
   ],
   "source": [
    "prim_struc = MPRester(mp_key).get_structure_by_material_id(mp_id)\n",
    "conv_struc = SpacegroupAnalyzer(prim_struc).get_conventional_standard_structure()"
   ]
  },
  {
   "cell_type": "markdown",
   "id": "7d42ac43",
   "metadata": {},
   "source": [
    "### Hypothèses de départ"
   ]
  },
  {
   "cell_type": "markdown",
   "id": "45aec27d",
   "metadata": {},
   "source": [
    "Dans l'analyse du diffractogramme ci-dessous, nous admettrons les hypothèses suivantes :\n",
    "\n",
    "    1. la diffusion est élastique;\n",
    "    2. la diffusion est simple;\n",
    "    3. la source est située à l’infini;\n",
    "    4. le détecteur est situé à l’infini;\n",
    "    5. le détecteur mesure une intensité (pas une amplitude).\n",
    "Les hypothèses 3 et 4 nous permettent d'approximer l'onde par une onde plane, ce qui va nous simplifier les calculs et l'analyse."
   ]
  },
  {
   "cell_type": "markdown",
   "id": "2479474a",
   "metadata": {},
   "source": [
    "### Extraction des données à analyser"
   ]
  },
  {
   "cell_type": "code",
   "execution_count": 4,
   "id": "5ed9d5be",
   "metadata": {},
   "outputs": [
    {
     "name": "stdout",
     "output_type": "stream",
     "text": [
      "I_max = 14139133.8035955 W/m^2\n"
     ]
    }
   ],
   "source": [
    "xrd = XRDCalculator(1.54060)\n",
    "I_max = max(xrd.get_pattern(conv_struc,scaled=False).y)\n",
    "print(f\"I_max = {I_max} W/m^2\")\n",
    "pattern = xrd.get_pattern(conv_struc,scaled=True)"
   ]
  },
  {
   "cell_type": "markdown",
   "id": "6450cfe9",
   "metadata": {},
   "source": [
    "Tout d'abord, nous récoltons l'intensité maximale des pics pour les mettres à l'échelle, c'est-à-dire faire en sorte que l'intensité maximale soit à 100. Donc $I_{échelle} = \\frac{I}{I_{max}} \\cdot 100$. $\\newline$\n",
    "Ensuite, nous stockons dans la variable pattern toutes les données relatives au diffractogramme."
   ]
  },
  {
   "cell_type": "markdown",
   "id": "e52ad9e6",
   "metadata": {},
   "source": [
    "### Analyse"
   ]
  },
  {
   "cell_type": "markdown",
   "id": "6868403b",
   "metadata": {},
   "source": [
    "L'angle $2\\theta$ correspond à l'angle formé entre la direction d'incidence des rayons X et la direction d'observation. L'intensité relative a été introduite plus haut. Les indices $hkl$ sont les indices de Miller des plans contribuants aux pics de diffraction. Un quatrième indice, l'indice $i$, est introduit pour des raisons de symétrie. Il est donc redondant et est défini comme $i:=-(h+k)$. Les rayons X sont diffractés sur ces plans. La multiplicité désigne le nombre de plans équivalents. Quant à $d_{hkl}$, cette variable représente la distance entre deux plans (hkl) consécutifs du réseau. \n",
    "Ces données sont reprises via le code ci-dessous."
   ]
  },
  {
   "cell_type": "code",
   "execution_count": 6,
   "id": "a2f48a15",
   "metadata": {},
   "outputs": [
    {
     "name": "stdout",
     "output_type": "stream",
     "text": [
      "Pic 1: 2θ = 13.25°, Intensité (à l'échelle) = 3.2, hkil = (0, 0, 0, 3),  Multiplicité = 2, d_hkl = 6.675103140000086\n",
      "Pic 2: 2θ = 25.95°, Intensité (à l'échelle) = 0.6, hkil = (1, 0, -1, 1),  Multiplicité = 12, d_hkl = 3.431336089243126\n",
      "Pic 3: 2θ = 26.69°, Intensité (à l'échelle) = 27.5, hkil = (0, 0, 0, 6),  Multiplicité = 2, d_hkl = 3.337551570000043\n"
     ]
    }
   ],
   "source": [
    "for i in range(3):\n",
    "    print(f\"Pic {i+1}: 2θ = {pattern.x[i]:.2f}°, Intensité (à l'échelle) = {pattern.y[i]:.1f}, hkil = {pattern.hkls[i][0]['hkl']},  Multiplicité = {pattern.hkls[i][0]['multiplicity']}, d_hkl = {pattern.d_hkls[i]}\")"
   ]
  },
  {
   "cell_type": "markdown",
   "id": "5bdfe8e6",
   "metadata": {},
   "source": [
    "Pour avoir un pic de diffraction, il faut que la condition de Bragg soit respectée :\n",
    "$\\begin{equation}\n",
    "n \\lambda = 2 d sin(\\theta) \n",
    "\\end{equation}$\n",
    "où n est l'ordre de la réflexion, d la distance entre deux plans consécutifs et $\\theta$ l'angle entre le rayon X incident et le plan où la diffraction se produit. Cette relation détermine la position des pics de Bragg dans le diffractogramme.$\\newline$\n",
    "\n",
    "Notons que la distance $d_{hkl}:=\\frac{2\\pi}{|\\boldsymbol{K}|}$ où $\\boldsymbol{K} := h\\boldsymbol{a*} + k \\boldsymbol{b*} + l \\boldsymbol{c*}$ est un vecteur du réseau réciproque. Ce dernier est orthogonal au plan du réseau direct (hkl), puisqu'il appartient à la rangée $[hkl]$ du réseau réciproque$\\newline$\n",
    "\n",
    "Définissons $\\boldsymbol{k} := \\frac{2 \\pi}{\\lambda}\\boldsymbol{\\hat{n}}$, le vecteur d'onde du rayon incident. Faisons de même avec $\\boldsymbol{k'} := \\frac{2 \\pi}{\\lambda}\\boldsymbol{\\hat{n'}}$, le vecteur d'onde du rayon diffusé. Soit $\\boldsymbol{R} := u\\boldsymbol{a} + v\\boldsymbol{b} + w \\boldsymbol{c}$, avec $u,v,w$ entiers, un vecteur du réseau direct. La condition de Laue stipule que $e^{(\\boldsymbol{k'}-\\boldsymbol{k}) \\cdot \\boldsymbol{R}} = 1$ pour avoir un pic de diffraction. Autrement dit, $\\boldsymbol{K} = \\boldsymbol{k'}-\\boldsymbol{k}$. Cette relation est équivalente à celle de Bragg. $\\newline$\n",
    "\n",
    "Le facteur de structure de maille est donné par $S_{\\mathbf{K}} = \\sum_{j=1}^{N} f_j(\\mathbf{K}) e^{i \\mathbf{K} \\cdot \\mathbf{r}_j}$ où $f_j(\\mathbf{K})$ est le facteur de forme atomique et $\\mathbf{r}_j$ une position d'un site diffuseur dans la maille (un atome, un ion, etc.). Il exprime dans quelle mesure l'interférence des ondes diffusées par les ions identiques à l'intérieur du motif peut diminuer l'intensité du pic de Bragg. Des facteurs de forme proches pour différents sites du cristal peuvent l'amoindrir de façon significative. Notons également que pour $2\\theta =0$, $f_j= Z_j$ ($Z_j$ étant le nombre d'électrons de l'élément j) et les électrons diffusent en phase. Pour $2\\theta \\neq 0$, $f_j <Z_j$ et il existe un déphasage entre les rayons diffusés. Pour certains $\\mathbf{K}$, $|S_{\\mathbf{K}}| = 0$, on appelle cela une extinction systématique.$\\newline$\n",
    "\n",
    "La multiplicité d'un plan joue aussi un rôle dans l'intensité d'un pic, celle-ci lui étant proportionnelle."
   ]
  },
  {
   "cell_type": "markdown",
   "id": "cd837954",
   "metadata": {},
   "source": [
    "Nous avons représenté les trois premiers pics du diffractogramme ci-dessous."
   ]
  },
  {
   "cell_type": "code",
   "execution_count": 8,
   "id": "404a2876",
   "metadata": {},
   "outputs": [
    {
     "data": {
      "image/png": "[encoded data removed]",
      "text/plain": [
       "<Figure size 1000x600 with 1 Axes>"
      ]
     },
     "metadata": {},
     "output_type": "display_data"
    }
   ],
   "source": [
    "plt.figure(figsize=(10, 6))\n",
    "colors = ['purple', 'red', 'orange'] + ['blue'] * (len(pattern.x) - 3)\n",
    "plt.bar(pattern.x[:3], pattern.y[:3], width=0.1, color=colors, alpha=0.7)\n",
    "\n",
    "for i in range(3):\n",
    "    plt.text(pattern.x[i], pattern.y[i] + 5, f\"{pattern.hkls[i][0]['hkl']}\",\n",
    "             fontsize=12, ha='center', color=colors[i], fontweight='normal')\n",
    "\n",
    "plt.xlabel(\"2θ (degrés)\", fontsize=14, fontweight='bold')\n",
    "plt.ylabel(\"Intensité (à l'échelle)\", fontsize=14, fontweight='bold')\n",
    "plt.xticks(fontsize=12)\n",
    "plt.yticks(fontsize=12)\n",
    "plt.grid(True, linestyle=\"--\", linewidth=0.5, alpha=0.7)\n",
    "plt.show()\n"
   ]
  },
  {
   "cell_type": "markdown",
   "id": "980cf7f9",
   "metadata": {},
   "source": [
    "Le premier pic se trouve en $2\\theta = 13,25°$ avec une intensité relative de 3,2. Il est associé à la famille (0003) dont les plans sont séparés de 6,675103140000086 Å. Le deuxième, quant à lui, se situe en $2\\theta = 25,95°$ avec une intensité relative de 0,6. Il correspond à une diffraction sur la famille de plan (10-11) interséparés de 3,431336089243126 Å. En $2\\theta = 26,69°$, le troisième pic apparaît avec une intensité relative de 27,5. Il correspond à la famille (0006), dont les plans consécutifs sont séparés de 3,337551570000043 Å."
   ]
  },
  {
   "cell_type": "markdown",
   "id": "fb14293a",
   "metadata": {},
   "source": [
    "Nous pouvons remarquer que les deux premiers pics sont très petits par rapport au troisième. Cela peut s'expliquer par la différence des facteurs de structure de maille pour les indices (0003), (10-11) et (0006). On peut supposer que la multiplicité joue un rôle moins important, dans le sens où l'intensité est proportionnelle au carré du facteur de structure, contrairement à la multiplicité qui n'a qu'une proportionnalité linéaire."
   ]
  },
  {
   "cell_type": "markdown",
   "id": "09d786fd",
   "metadata": {},
   "source": [
    "### Bibliographie"
   ]
  },
  {
   "cell_type": "markdown",
   "id": "ada7f843",
   "metadata": {},
   "source": [
    "[1] Université Catholique de Louvain (UCLouvan), *LMAPR1492*, 2025.\n",
    "\n",
    "[2] B. D. Cullity and S. R. Stock, *Elements of X-Ray Diffraction*, 3rd ed., Pearson Education Limited, 2014. Pages consultées : 147 et 319. [Online]. Available: https://www.eng.uc.edu/~beaucag/Classes/AdvancedMaterialsThermodynamics/Books/B.D.%20Cullity,%20S.R.%20Stock%20-%20Elements%20of%20X-Ray%20Diffraction-Pearson%20Education%20Limited%20(2014).pdf. [Accessed: Mar. 15, 2025].\n",
    "\n",
    "[3] *3.014 Materials Laboratory, Fall 2006*, Massachusetts Institute of Technology (MIT). [Online]. Available: https://ocw.mit.edu/courses/3-014-materials-laboratory-fall-2006/resources/w4_g2/. [Accessed: Mar. 15, 2025].\n"
   ]
  },
  {
   "cell_type": "code",
   "execution_count": null,
   "id": "212b7768",
   "metadata": {},
   "outputs": [],
   "source": []
  }
 ],
 "metadata": {
  "kernelspec": {
   "display_name": "Python 3 (ipykernel)",
   "language": "python",
   "name": "python3"
  },
  "language_info": {
   "codemirror_mode": {
    "name": "ipython",
    "version": 3
   },
   "file_extension": ".py",
   "mimetype": "text/x-python",
   "name": "python",
   "nbconvert_exporter": "python",
   "pygments_lexer": "ipython3",
   "version": "3.9.13"
  }
 },
 "nbformat": 4,
 "nbformat_minor": 5
}
