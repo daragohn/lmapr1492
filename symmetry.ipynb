{
 "cells": [
  {
   "cell_type": "code",
   "execution_count": 1,
   "id": "2dd8ddc7",
   "metadata": {},
   "outputs": [],
   "source": [
    "import numpy as np\n",
    "from mp_api.client import MPRester\n",
    "from pymatgen.core.operations import SymmOp\n",
    "from pymatgen.symmetry.analyzer import SpacegroupAnalyzer\n",
    "from jupyter_jsmol.pymatgen import quick_view"
   ]
  },
  {
   "cell_type": "code",
   "execution_count": 2,
   "id": "c929891b",
   "metadata": {},
   "outputs": [],
   "source": [
    "mp_key = \"7T8Rm9ppE58YHsBs2IkJCMwMXshrwbpx\"\n",
    "mp_id = \"mp-1018096\""
   ]
  },
  {
   "cell_type": "code",
   "execution_count": 3,
   "id": "8a65ee53",
   "metadata": {},
   "outputs": [
    {
     "data": {
      "application/vnd.jupyter.widget-view+json": {
       "model_id": "602219afc540418aa2d3d568ed2966e8",
       "version_major": 2,
       "version_minor": 0
      },
      "text/plain": [
       "Retrieving MaterialsDoc documents:   0%|          | 0/1 [00:00<?, ?it/s]"
      ]
     },
     "metadata": {},
     "output_type": "display_data"
    }
   ],
   "source": [
    "with MPRester(mp_key) as m:\n",
    "    prim_struc = m.get_structure_by_material_id(mp_id)\n",
    "conv_struc = SpacegroupAnalyzer(prim_struc).get_conventional_standard_structure()\n",
    "symmops = SpacegroupAnalyzer(conv_struc).get_space_group_operations()"
   ]
  },
  {
   "cell_type": "markdown",
   "id": "86066882",
   "metadata": {},
   "source": [
    "# Première symétrie"
   ]
  },
  {
   "cell_type": "code",
   "execution_count": 4,
   "id": "20cfe7c0",
   "metadata": {
    "scrolled": true
   },
   "outputs": [
    {
     "name": "stdout",
     "output_type": "stream",
     "text": [
      "Rot:\n",
      "[[ 0. -1.  0.]\n",
      " [ 1. -1.  0.]\n",
      " [ 0.  0.  1.]]\n",
      "tau\n",
      "[-0.33333333  0.33333333  0.33333333]\n"
     ]
    }
   ],
   "source": [
    "s1 = SymmOp.from_xyz_str('-y-1/3,x-y+1/3,z+1/3')\n",
    "print(s1)"
   ]
  },
  {
   "cell_type": "markdown",
   "id": "b36e1a0d",
   "metadata": {},
   "source": [
    "Concentrons-nous d'abord sur le point (2/3, 1/3, 1/3) de la maille conventionnelle. Il correspond à un ion $\\text{F}^{-}$. Nous voulons lui appliquer une rotation hélicoïdal $3_{\\frac{1}{3}}$."
   ]
  },
  {
   "cell_type": "markdown",
   "id": "16abda5f",
   "metadata": {},
   "source": [
    "Sa matrice de rotation $R$ et son vecteur de translation $\\tau$ sont donnés par :\n",
    "\n",
    "$R = \n",
    "\\begin{pmatrix}\n",
    "0 & -1 & 0 \\\\\n",
    "1 & -1 & 0 \\\\\n",
    "0 & 0 & 1\n",
    "\\end{pmatrix}\n",
    "$\n",
    "\n",
    "$\n",
    "\\tau = \n",
    "\\begin{pmatrix}\n",
    "-1/3 \\\\\n",
    "1/3 \\\\\n",
    "1/3\n",
    "\\end{pmatrix}\n",
    "$\n"
   ]
  },
  {
   "cell_type": "code",
   "execution_count": 5,
   "id": "f57c5392",
   "metadata": {},
   "outputs": [
    {
     "data": {
      "text/plain": [
       "array([-0.66666667,  0.66666667,  0.66666667])"
      ]
     },
     "execution_count": 5,
     "metadata": {},
     "output_type": "execute_result"
    }
   ],
   "source": [
    "s1.operate([2/3, 1/3, 1/3])"
   ]
  },
  {
   "cell_type": "markdown",
   "id": "9794b95f",
   "metadata": {},
   "source": [
    "Après avoir appliqué l'opération de symétrie, nous obtenons le point (-2/3, 2/3, 2/3) équivalent au point (1/3, 2/3, 2/3) (grâce à la périodicité du réseau). Visuellement, cela donne :"
   ]
  },
  {
   "cell_type": "code",
   "execution_count": 17,
   "id": "b088cba0",
   "metadata": {
    "scrolled": false
   },
   "outputs": [
    {
     "data": {
      "application/vnd.jupyter.widget-view+json": {
       "model_id": "c60828915f01443a89ccd4b81df83f2c",
       "version_major": 2,
       "version_minor": 0
      },
      "text/plain": [
       "JsmolView(layout=Layout(align_self='stretch', height='400px'))"
      ]
     },
     "metadata": {},
     "output_type": "display_data"
    }
   ],
   "source": [
    "view = quick_view(prim_struc, \"packed\", conventional=True)\n",
    "display(view)"
   ]
  },
  {
   "cell_type": "code",
   "execution_count": 18,
   "id": "13f0b66a",
   "metadata": {},
   "outputs": [],
   "source": [
    "view.script('select barium; color gold')\n",
    "view.script('select nitrogen; color blue')\n",
    "view.script('select fluorine; color red')\n",
    "view.script(\"draw symop '-y-1/3,x-y+1/3,z+1/3' {2/3,1/3,1/3}\")"
   ]
  },
  {
   "cell_type": "markdown",
   "id": "4f5cd2fb",
   "metadata": {},
   "source": [
    "# Deuxième symétrie"
   ]
  },
  {
   "cell_type": "code",
   "execution_count": 8,
   "id": "3a534dd5",
   "metadata": {},
   "outputs": [
    {
     "name": "stdout",
     "output_type": "stream",
     "text": [
      "Rot:\n",
      "[[-1.  0.  0.]\n",
      " [ 0. -1.  0.]\n",
      " [ 0.  0. -1.]]\n",
      "tau\n",
      "[-0.33333333  0.33333333  0.33333333]\n"
     ]
    }
   ],
   "source": [
    "s2 = SymmOp.from_xyz_str('-x-1/3,-y+1/3,-z+1/3')\n",
    "print(s2)"
   ]
  },
  {
   "cell_type": "markdown",
   "id": "6af40ce1",
   "metadata": {},
   "source": [
    "Etudions maintenant le point (0.66666667, 0.33333333, 0.57569332). Il s'agit d'un ion $\\text{Ba}^{2+}$. Nous voulons lui appliquer une opération $\\bar{1}$ de centre  (-1/6, 1/6, 1/6), c.-à-d. une rotoinversion d'ordre 1 avec un centre d'inversion en (-1/6, 1/6, 1/6)."
   ]
  },
  {
   "cell_type": "markdown",
   "id": "6cccda6d",
   "metadata": {},
   "source": [
    "La matrice de rotation $R$ et le vecteur de translation $\\tau$ associés sont donnés par :\n",
    "\n",
    "$R = \n",
    "\\begin{pmatrix}\n",
    "-1 & 0 & 0 \\\\\n",
    "1 & -1 & 0 \\\\\n",
    "0 & 0 & -1\n",
    "\\end{pmatrix}\n",
    "$\n",
    "\n",
    "$\n",
    "\\tau = \n",
    "\\begin{pmatrix}\n",
    "-1/3 \\\\\n",
    "1/3 \\\\\n",
    "1/3\n",
    "\\end{pmatrix}\n",
    "$"
   ]
  },
  {
   "cell_type": "code",
   "execution_count": 9,
   "id": "3aa4c00b",
   "metadata": {},
   "outputs": [
    {
     "data": {
      "text/plain": [
       "array([-1.00000000e+00,  3.33333333e-09, -2.42359987e-01])"
      ]
     },
     "execution_count": 9,
     "metadata": {},
     "output_type": "execute_result"
    }
   ],
   "source": [
    "s2.operate([0.66666667, 0.33333333, 0.57569332])"
   ]
  },
  {
   "cell_type": "markdown",
   "id": "4cee1ab8",
   "metadata": {},
   "source": [
    "Après avoir appliqué l'opération de symétrie, nous obtenons le point (-1.00000000e+00,  3.33333333e-09, -2.42359987e-01), qui correspond, de par la périodicité en translation du réseau, au point (0, 0, 0.75764002).\n",
    "\n",
    "Visuellement, cela donne :"
   ]
  },
  {
   "cell_type": "code",
   "execution_count": 19,
   "id": "0dc1390d",
   "metadata": {},
   "outputs": [
    {
     "data": {
      "application/vnd.jupyter.widget-view+json": {
       "model_id": "88a7be2865cb4a83b2504de197918bf7",
       "version_major": 2,
       "version_minor": 0
      },
      "text/plain": [
       "JsmolView(layout=Layout(align_self='stretch', height='400px'))"
      ]
     },
     "metadata": {},
     "output_type": "display_data"
    }
   ],
   "source": [
    "view = quick_view(prim_struc, \"packed\", conventional=True)\n",
    "display(view)"
   ]
  },
  {
   "cell_type": "code",
   "execution_count": 20,
   "id": "f76a1dc3",
   "metadata": {},
   "outputs": [],
   "source": [
    "view.script('select barium; color gold')\n",
    "view.script('select nitrogen; color blue')\n",
    "view.script('select fluorine; color red')\n",
    "view.script(\"draw symop '-x-1/3,-y+1/3,-z+1/3' {atomindex=8}\")"
   ]
  },
  {
   "cell_type": "markdown",
   "id": "c3186aac",
   "metadata": {},
   "source": [
    "# Troisième symétrie"
   ]
  },
  {
   "cell_type": "code",
   "execution_count": 12,
   "id": "4fba2865",
   "metadata": {},
   "outputs": [
    {
     "name": "stdout",
     "output_type": "stream",
     "text": [
      "Rot:\n",
      "[[ 0. -1.  0.]\n",
      " [ 1. -1.  0.]\n",
      " [ 0.  0.  1.]]\n",
      "tau\n",
      "[0. 0. 0.]\n"
     ]
    }
   ],
   "source": [
    "s3 = SymmOp.from_xyz_str('-y,x-y,z')\n",
    "print(s3)"
   ]
  },
  {
   "cell_type": "markdown",
   "id": "cc5670ac",
   "metadata": {},
   "source": [
    "Etudions à présent l'ion $\\text{N}^{3-}$ en (0, 1, 1/2). Appliquons-lui une rotation d'ordre 3."
   ]
  },
  {
   "cell_type": "markdown",
   "id": "6b4a258e",
   "metadata": {},
   "source": [
    "La matrice de rotation $R$ associée est donnée par :\n",
    "\n",
    "$R = \n",
    "\\begin{pmatrix}\n",
    "0 & -1 & 0 \\\\\n",
    "1 & -1 & 0 \\\\\n",
    "0 & 0 & 1\n",
    "\\end{pmatrix}\n",
    "$"
   ]
  },
  {
   "cell_type": "code",
   "execution_count": 13,
   "id": "d8b3b95f",
   "metadata": {},
   "outputs": [
    {
     "data": {
      "text/plain": [
       "array([-1. , -1. ,  0.5])"
      ]
     },
     "execution_count": 13,
     "metadata": {},
     "output_type": "execute_result"
    }
   ],
   "source": [
    "s3.operate([0, 1, 1/2])"
   ]
  },
  {
   "cell_type": "markdown",
   "id": "df439933",
   "metadata": {},
   "source": [
    "Après avoir appliqué la rotation, nous obtenons le point (-1, -1, 1/2) équivalent au point (0, 0, 1/2) (grâce à la périodicité du réseau). \n",
    "\n",
    "Visuellement, cela donne :"
   ]
  },
  {
   "cell_type": "code",
   "execution_count": 14,
   "id": "48f132e3",
   "metadata": {},
   "outputs": [
    {
     "data": {
      "application/vnd.jupyter.widget-view+json": {
       "model_id": "e83d5cbd66f54187b73609876b0d8e6b",
       "version_major": 2,
       "version_minor": 0
      },
      "text/plain": [
       "JsmolView(layout=Layout(align_self='stretch', height='400px'))"
      ]
     },
     "metadata": {},
     "output_type": "display_data"
    }
   ],
   "source": [
    "view = quick_view(prim_struc, \"packed\", conventional=True)\n",
    "display(view)"
   ]
  },
  {
   "cell_type": "code",
   "execution_count": 15,
   "id": "fdc53d72",
   "metadata": {},
   "outputs": [],
   "source": [
    "view.script('select barium; color gold')\n",
    "view.script('select nitrogen; color blue')\n",
    "view.script('select fluorine; color red')\n",
    "view.script(\"draw symop '-y,x-y,z' {atomindex=16}\")"
   ]
  },
  {
   "cell_type": "code",
   "execution_count": null,
   "id": "6fd0358e",
   "metadata": {},
   "outputs": [],
   "source": []
  }
 ],
 "metadata": {
  "kernelspec": {
   "display_name": "Python 3 (ipykernel)",
   "language": "python",
   "name": "python3"
  },
  "language_info": {
   "codemirror_mode": {
    "name": "ipython",
    "version": 3
   },
   "file_extension": ".py",
   "mimetype": "text/x-python",
   "name": "python",
   "nbconvert_exporter": "python",
   "pygments_lexer": "ipython3",
   "version": "3.9.13"
  }
 },
 "nbformat": 4,
 "nbformat_minor": 5
}
