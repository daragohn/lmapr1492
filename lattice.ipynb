{
 "cells": [
  {
   "cell_type": "code",
   "execution_count": 1,
   "id": "28e60818",
   "metadata": {},
   "outputs": [],
   "source": [
    "import numpy as np\n",
    "from mp_api.client import MPRester\n",
    "from pymatgen.core.operations import SymmOp\n",
    "from pymatgen.symmetry.analyzer import SpacegroupAnalyzer\n",
    "from jupyter_jsmol.pymatgen import quick_view\n",
    "from plotly.subplots import make_subplots\n",
    "import plotly.graph_objects as go"
   ]
  },
  {
   "cell_type": "code",
   "execution_count": 2,
   "id": "2657e23b",
   "metadata": {},
   "outputs": [],
   "source": [
    "mp_key = \"7T8Rm9ppE58YHsBs2IkJCMwMXshrwbpx\"\n",
    "mp_id = \"mp-1018096\""
   ]
  },
  {
   "cell_type": "code",
   "execution_count": 3,
   "id": "84ed3abe",
   "metadata": {
    "scrolled": true
   },
   "outputs": [
    {
     "data": {
      "application/vnd.jupyter.widget-view+json": {
       "model_id": "eb472d05e9164ebaad467769f4f09a10",
       "version_major": 2,
       "version_minor": 0
      },
      "text/plain": [
       "Retrieving MaterialsDoc documents:   0%|          | 0/1 [00:00<?, ?it/s]"
      ]
     },
     "metadata": {},
     "output_type": "display_data"
    }
   ],
   "source": [
    "prim_struc = MPRester(mp_key).get_structure_by_material_id(mp_id)\n",
    "conv_struc = SpacegroupAnalyzer(prim_struc).get_conventional_standard_structure()\n",
    "symmops = SpacegroupAnalyzer(conv_struc).get_space_group_operations()"
   ]
  },
  {
   "cell_type": "markdown",
   "id": "1a31eb1f",
   "metadata": {},
   "source": [
    "## Vecteurs"
   ]
  },
  {
   "cell_type": "code",
   "execution_count": 4,
   "id": "7634ee56",
   "metadata": {
    "scrolled": true
   },
   "outputs": [
    {
     "name": "stdout",
     "output_type": "stream",
     "text": [
      "Vecteurs de base du réseau direct :\n",
      "  a : [-2.0108231  -3.48284643  0.        ]\n",
      "  b : [-4.02164518e+00 -1.00000000e-08 -0.00000000e+00]\n",
      "  c : [-2.0108231  -1.1609478  -6.67510314]\n"
     ]
    }
   ],
   "source": [
    "direct_vectors = prim_struc.lattice.matrix\n",
    "direct_base_vectors = [\"a\",\"b\",\"c\"]\n",
    "print(\"Vecteurs de base du réseau direct :\")\n",
    "for index, vector in enumerate(direct_vectors):\n",
    "    print(\" \",f\"{direct_base_vectors[index]} : {vector}\")\n"
   ]
  },
  {
   "cell_type": "code",
   "execution_count": 5,
   "id": "1f91c68c",
   "metadata": {},
   "outputs": [
    {
     "name": "stdout",
     "output_type": "stream",
     "text": [
      "Vecteurs de base du réseau réciproque :\n",
      "  a* : [ 4.48581948e-09 -1.80403743e+00  3.13761935e-01]\n",
      "  b* : [-1.56234204  0.90201894  0.31376242]\n",
      "  c* : [-0.         -0.         -0.94128663]\n"
     ]
    }
   ],
   "source": [
    "reciprocal_vectors = prim_struc.lattice.reciprocal_lattice.matrix\n",
    "reciprocal_base_vectors = [\"a*\",\"b*\",\"c*\"]\n",
    "print(\"Vecteurs de base du réseau réciproque :\")\n",
    "for index, vector in enumerate(reciprocal_vectors):\n",
    "    print(\" \",f\"{reciprocal_base_vectors[index]} : {vector}\")\n"
   ]
  },
  {
   "cell_type": "markdown",
   "id": "a6e3c33e",
   "metadata": {},
   "source": [
    "## Type de maille"
   ]
  },
  {
   "cell_type": "code",
   "execution_count": 6,
   "id": "3bf86e4f",
   "metadata": {},
   "outputs": [
    {
     "name": "stdout",
     "output_type": "stream",
     "text": [
      "Type de maille : rhombohedral\n"
     ]
    }
   ],
   "source": [
    "lattice_type = SpacegroupAnalyzer(prim_struc).get_lattice_type()\n",
    "print(\"Type de maille : \" +str(lattice_type))"
   ]
  },
  {
   "cell_type": "markdown",
   "id": "52247069",
   "metadata": {},
   "source": [
    "## Système cristallin"
   ]
  },
  {
   "cell_type": "code",
   "execution_count": 7,
   "id": "fa1a467d",
   "metadata": {},
   "outputs": [
    {
     "name": "stdout",
     "output_type": "stream",
     "text": [
      "Système cristrallin : trigonal\n"
     ]
    }
   ],
   "source": [
    "crystal_system = SpacegroupAnalyzer(prim_struc).get_crystal_system()\n",
    "print(\"Système cristrallin : \" +str(crystal_system))"
   ]
  },
  {
   "cell_type": "markdown",
   "id": "032752e5",
   "metadata": {},
   "source": [
    "## Groupe ponctuel"
   ]
  },
  {
   "cell_type": "code",
   "execution_count": 8,
   "id": "137a4d2b",
   "metadata": {},
   "outputs": [
    {
     "name": "stdout",
     "output_type": "stream",
     "text": [
      "Groupe ponctuel : -3m\n"
     ]
    }
   ],
   "source": [
    "point_group = SpacegroupAnalyzer(prim_struc).get_point_group_symbol()\n",
    "print(\"Groupe ponctuel : \" +str(point_group))"
   ]
  },
  {
   "cell_type": "code",
   "execution_count": null,
   "id": "0db6a8df",
   "metadata": {},
   "outputs": [],
   "source": []
  }
 ],
 "metadata": {
  "kernelspec": {
   "display_name": "Python 3 (ipykernel)",
   "language": "python",
   "name": "python3"
  },
  "language_info": {
   "codemirror_mode": {
    "name": "ipython",
    "version": 3
   },
   "file_extension": ".py",
   "mimetype": "text/x-python",
   "name": "python",
   "nbconvert_exporter": "python",
   "pygments_lexer": "ipython3",
   "version": "3.9.13"
  }
 },
 "nbformat": 4,
 "nbformat_minor": 5
}
